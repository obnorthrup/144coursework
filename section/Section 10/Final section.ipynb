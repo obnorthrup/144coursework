{
 "metadata": {
  "name": "Final section"
 },
 "nbformat": 3,
 "nbformat_minor": 0,
 "worksheets": [
  {
   "cells": [
    {
     "cell_type": "markdown",
     "metadata": {},
     "source": "# Welcome to Week 10!\n\nToday's project: Homework 6 Problem 3 (the `adjacent` method).\n\nYou can find this notebook in the usual place: https://github.com/obnorthrup/144coursework"
    },
    {
     "cell_type": "markdown",
     "metadata": {},
     "source": "## Framing the problem\n\nHere was Problem 3:\n    \n> Build a subclass of the `SearchTree` class in `runTregex.py` that contains a method `adjacent(self, elt)`, which checks whether adjacent to `self` is a treelet bearing `elt` as node label (for non-terminals) or value (in the case of leaves).\n\nWhat is this asking of you?"
    },
    {
     "cell_type": "markdown",
     "metadata": {},
     "source": "## Breaking it down\n\n#### 1. Setting up the subclass\n\nLet's make a subclass of `ParentedTree` instead of SearchTree so we don't have to worry about `RunTregex.py`"
    },
    {
     "cell_type": "code",
     "collapsed": false,
     "input": "from nltk import ParentedTree\n\nclass myTree(ParentedTree):\n    \n    foo = \"bar\"",
     "language": "python",
     "metadata": {},
     "outputs": [],
     "prompt_number": 1
    },
    {
     "cell_type": "markdown",
     "metadata": {},
     "source": "Now let's instantiate this, so we have a tree to play with"
    },
    {
     "cell_type": "code",
     "collapsed": false,
     "input": "tree = myTree(\"\"\"(VP (VBD got)\n  (NP\n    (NP (DT a)\n      (ADJP\n        (QP ($ $) (CD 29.4) (CD million))\n        (-NONE- *U*))\n      (NNP Air) (NNP Force) (NN contract))\n    (PP (IN for)\n      (NP (NN intelligence) (NNS data) (NN handling)))))\"\"\")",
     "language": "python",
     "metadata": {},
     "outputs": [],
     "prompt_number": 2
    },
    {
     "cell_type": "code",
     "collapsed": false,
     "input": "tree.draw()",
     "language": "python",
     "metadata": {},
     "outputs": [],
     "prompt_number": "*"
    },
    {
     "cell_type": "markdown",
     "metadata": {},
     "source": "#### 2. Moving around the tree\n\nSubtrees keep track of where they sit in larger trees. We can move around with methods like `parent()` and `root()`, and we can see where we are with `treeposition()`"
    },
    {
     "cell_type": "code",
     "collapsed": false,
     "input": "print tree[0]\nprint tree[1]",
     "language": "python",
     "metadata": {},
     "outputs": [
      {
       "output_type": "stream",
       "stream": "stdout",
       "text": "(VBD got)\n(NP\n  (NP\n    (DT a)\n    (ADJP (QP ($ $) (CD 29.4) (CD million)) (-NONE- *U*))\n    (NNP Air)\n    (NNP Force)\n    (NN contract))\n  (PP (IN for) (NP (NN intelligence) (NNS data) (NN handling))))\n"
      }
     ],
     "prompt_number": 3
    },
    {
     "cell_type": "code",
     "collapsed": false,
     "input": "print tree[1][1]\nprint tree[1,1]\nprint tree[1,1,1,0,0]",
     "language": "python",
     "metadata": {},
     "outputs": [
      {
       "output_type": "stream",
       "stream": "stdout",
       "text": "(PP (IN for) (NP (NN intelligence) (NNS data) (NN handling)))\n(PP (IN for) (NP (NN intelligence) (NNS data) (NN handling)))\nintelligence\n"
      }
     ],
     "prompt_number": 4
    },
    {
     "cell_type": "code",
     "collapsed": false,
     "input": "pp = tree[1][1]\nintel = pp[1][0]\nprint pp[0]\nprint intel\n\nprint pp[0].right_sibling()\nprint pp[0].right_sibling()[0]",
     "language": "python",
     "metadata": {},
     "outputs": [
      {
       "output_type": "stream",
       "stream": "stdout",
       "text": "(IN for)\n(NN intelligence)\n(NP (NN intelligence) (NNS data) (NN handling))\n(NN intelligence)\n"
      }
     ],
     "prompt_number": 5
    },
    {
     "cell_type": "code",
     "collapsed": false,
     "input": "contract = tree.root()[1,0,4]",
     "language": "python",
     "metadata": {},
     "outputs": [],
     "prompt_number": 6
    },
    {
     "cell_type": "code",
     "collapsed": false,
     "input": "tree[1,1,1].leaf_treeposition(0)",
     "language": "python",
     "metadata": {},
     "outputs": [
      {
       "metadata": {},
       "output_type": "pyout",
       "prompt_number": 7,
       "text": "(0, 0)"
      }
     ],
     "prompt_number": 7
    },
    {
     "cell_type": "code",
     "collapsed": false,
     "input": "tree[1,1,1].leaves()",
     "language": "python",
     "metadata": {},
     "outputs": [
      {
       "metadata": {},
       "output_type": "pyout",
       "prompt_number": 8,
       "text": "['intelligence', 'data', 'handling']"
      }
     ],
     "prompt_number": 8
    },
    {
     "cell_type": "code",
     "collapsed": false,
     "input": "tree[1,1,1].leaf_treeposition(0)",
     "language": "python",
     "metadata": {},
     "outputs": [
      {
       "metadata": {},
       "output_type": "pyout",
       "prompt_number": 9,
       "text": "(0, 0)"
      }
     ],
     "prompt_number": 9
    },
    {
     "cell_type": "code",
     "collapsed": false,
     "input": "tree[1,0,4]",
     "language": "python",
     "metadata": {},
     "outputs": [
      {
       "metadata": {},
       "output_type": "pyout",
       "prompt_number": 10,
       "text": "myTree('NN', ['contract'])"
      }
     ],
     "prompt_number": 10
    },
    {
     "cell_type": "markdown",
     "metadata": {},
     "source": "#### 3. Finding the closest right sibling\n\nHow can we do this?"
    },
    {
     "cell_type": "code",
     "collapsed": false,
     "input": "def closestSib(tr):\n    '''Crawl up the tree from tr and return the treeposition of the first right sibling.'''\n    \n    depth = len(tr.treeposition())\n    searcher = tr # searcher will crawl up the tree until a node with a right sibling is found\n\n    for i in range(0,depth): # only crawl up until the root\n        tr_sib = searcher.right_sibling() # get the right sibling; if there's isn't one, it's None\n        if tr_sib != None:\n            return tr_sib\n        searcher = searcher.parent() # otherwise, climb up a level and try again\n   \n    return None #returns None if no closest sibling found",
     "language": "python",
     "metadata": {},
     "outputs": [],
     "prompt_number": 11
    },
    {
     "cell_type": "markdown",
     "metadata": {},
     "source": "#### 4. Find the rightmost leaf\n\nThis part's quick"
    },
    {
     "cell_type": "code",
     "collapsed": false,
     "input": "def firstLeaf(sib):\n    '''Given a tree sib, return the position of the leftmost leaf in sib'''\n    \n    leafPos = sib.treeposition() + sib.leaf_treeposition(0)\n    return leafPos",
     "language": "python",
     "metadata": {},
     "outputs": [],
     "prompt_number": 12
    },
    {
     "cell_type": "markdown",
     "metadata": {},
     "source": "#### 5. Climb back up, checking as we go\n\nKeep in mind: At the leaf we're checking a string against `elt`. At subtrees we're checking a node label."
    },
    {
     "cell_type": "code",
     "collapsed": false,
     "input": "def right(t1, elt): \n    '''Given a tree t1 and a string elt, return True if t1 precedes elt'''\n    \n    sibling = closestSib(t1) # set sibling to the closest righthand sibling, or None\n    if sibling == None:\n        return False\n    \n    leafPos = firstLeaf(sibling) # if there's a sibling, leafPos is the position of leftmost leaf in it\n    \n    leaf = t1.root()[leafPos] # leaf is the leaf's content (a string), to be checked against elt\n    if leaf == elt:\n        return True\n    \n    # assuming there's a leaf but it isn't elt, walk up from leaf and check every node label\n    pointer = t1.root()[leafPos[:-1]] # start at the subtree immediately above the leaf\n    depth = len(sibling) # continue only up to the level of the closest sibling\n    \n    for i in range(depth):\n        if pointer.node == elt:\n            return True\n        else:\n            pointer = pointer.parent()\n    \n    # There's a sibling, but neither the leaf nor any nodes up to sibling match elt\n    return False",
     "language": "python",
     "metadata": {},
     "outputs": [],
     "prompt_number": 13
    },
    {
     "cell_type": "code",
     "collapsed": false,
     "input": "print right(contract, \"PP\")",
     "language": "python",
     "metadata": {},
     "outputs": [
      {
       "output_type": "stream",
       "stream": "stdout",
       "text": "True\n"
      }
     ],
     "prompt_number": 14
    },
    {
     "cell_type": "markdown",
     "metadata": {},
     "source": "## Putting it together\n\nHow can these methods be put together in the class definition?"
    },
    {
     "cell_type": "code",
     "collapsed": false,
     "input": "from nltk import ParentedTree\n\nclass myTree(ParentedTree):\n    \n    def closestSib(self):\n        '''Crawl up the tree from self and return the treeposition of the first right sibling.'''\n        \n        depth = len(self.treeposition())\n        searcher = self # searcher will crawl up the tree until a node with a right sibling is found\n\n        for i in range(0,depth): # only crawl up until the root\n            tr_sib = searcher.right_sibling() # get the right sibling; if there's isn't one, it's None\n            if tr_sib != None:\n                return tr_sib\n            searcher = searcher.parent() # otherwise, climb up a level and try again\n   \n        return None #returns None if no closest sibling found\n    \n    \n    \n    def firstLeaf(self):\n        '''Given self, return the position of the leftmost leaf in self'''\n    \n        leafPos = self.treeposition() + self.leaf_treeposition(0)\n        return leafPos\n    \n    \n    \n    def right(self, elt): \n        '''Given a tree t1 and a string elt, return True if t1 precedes elt'''\n        \n        sibling = self.closestSib() # set sibling to the closest righthand sibling, or None\n        if sibling == None:\n            return False\n    \n        leafPos = sibling.firstLeaf() # if there's a sibling, leafPos is the position of leftmost leaf in it\n        \n        leaf = self.root()[leafPos] # leaf is the leaf's content (a string), to be checked against elt\n        if leaf == elt:\n            return True\n    \n        # assuming there's a leaf but it isn't elt, walk up from leaf and check every node label\n        pointer = self.root()[leafPos[:-1]] # start at the subtree immediately above the leaf\n        depth = len(sibling) # continue only up to the level of the closest sibling\n    \n        for i in range(depth):\n            if pointer.node == elt:\n                return True\n            else:\n                pointer = pointer.parent()\n    \n        # There's a sibling, but neither the leaf nor any nodes up to sibling match elt\n        return False",
     "language": "python",
     "metadata": {},
     "outputs": [],
     "prompt_number": 17
    },
    {
     "cell_type": "code",
     "collapsed": false,
     "input": "tree = myTree(\"\"\"(VP (VBD got)\n  (NP\n    (NP (DT a)\n      (ADJP\n        (QP ($ $) (CD 29.4) (CD million))\n        (-NONE- *U*))\n      (NNP Air) (NNP Force) (NN contract))\n    (PP (IN for)\n      (NP (NN intelligence) (NNS data) (NN handling)))))\"\"\")\n\ncontract = tree[1,0,4]\n\nprint contract.right(\"PP\")",
     "language": "python",
     "metadata": {},
     "outputs": [
      {
       "output_type": "stream",
       "stream": "stdout",
       "text": "True\n"
      }
     ],
     "prompt_number": 23
    },
    {
     "cell_type": "code",
     "collapsed": false,
     "input": "",
     "language": "python",
     "metadata": {},
     "outputs": []
    }
   ],
   "metadata": {}
  }
 ]
}