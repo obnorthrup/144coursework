{
 "metadata": {
  "name": "Final section - Worksheet"
 },
 "nbformat": 3,
 "nbformat_minor": 0,
 "worksheets": [
  {
   "cells": [
    {
     "cell_type": "markdown",
     "metadata": {},
     "source": "# Welcome to Week 10!\n\nToday's project: Homework 6 Problem 3 (the `adjacent` method).\n\nYou can find this notebook in the usual place: https://github.com/obnorthrup/144coursework"
    },
    {
     "cell_type": "markdown",
     "metadata": {},
     "source": "## Framing the problem\n\nHere was Problem 3:\n    \n> Build a subclass of the `SearchTree` class in `runTregex.py` that contains a method `adjacent(self, elt)`, which checks whether adjacent to `self` is a treelet bearing `elt` as node label (for non-terminals) or value (in the case of leaves).\n\nWhat is this asking of you?"
    },
    {
     "cell_type": "markdown",
     "metadata": {},
     "source": "## Breaking it down\n\n#### 1. Setting up the subclass\n\nLet's make a subclass of `ParentedTree` instead of SearchTree so we don't have to worry about `RunTregex.py`"
    },
    {
     "cell_type": "code",
     "collapsed": false,
     "input": "from nltk import ParentedTree\n\nclass myTree(ParentedTree):\n    \n    foo = \"bar\"",
     "language": "python",
     "metadata": {},
     "outputs": [],
     "prompt_number": 1
    },
    {
     "cell_type": "markdown",
     "metadata": {},
     "source": "Now let's instantiate this, so we have a tree to play with"
    },
    {
     "cell_type": "code",
     "collapsed": false,
     "input": "tree = myTree(\"\"\"(VP (VBD got)\n  (NP\n    (NP (DT a)\n      (ADJP\n        (QP ($ $) (CD 29.4) (CD million))\n        (-NONE- *U*))\n      (NNP Air) (NNP Force) (NN contract))\n    (PP (IN for)\n      (NP (NN intelligence) (NNS data) (NN handling)))))\"\"\")",
     "language": "python",
     "metadata": {},
     "outputs": [],
     "prompt_number": 2
    },
    {
     "cell_type": "code",
     "collapsed": false,
     "input": "tree.draw()",
     "language": "python",
     "metadata": {},
     "outputs": [],
     "prompt_number": "*"
    },
    {
     "cell_type": "markdown",
     "metadata": {},
     "source": "#### 2. Moving around the tree\n\nSubtrees keep track of where they sit in larger trees. We can move around with methods like `parent()` and `root()`, and we can see where we are with `treeposition()`"
    },
    {
     "cell_type": "code",
     "collapsed": false,
     "input": "",
     "language": "python",
     "metadata": {},
     "outputs": []
    },
    {
     "cell_type": "code",
     "collapsed": false,
     "input": "",
     "language": "python",
     "metadata": {},
     "outputs": []
    },
    {
     "cell_type": "code",
     "collapsed": false,
     "input": "",
     "language": "python",
     "metadata": {},
     "outputs": []
    },
    {
     "cell_type": "code",
     "collapsed": false,
     "input": "",
     "language": "python",
     "metadata": {},
     "outputs": []
    },
    {
     "cell_type": "markdown",
     "metadata": {},
     "source": "#### 3. Finding the closest right sibling\n\nHow can we do this?"
    },
    {
     "cell_type": "code",
     "collapsed": false,
     "input": "def closestSib(tr):\n    '''Crawl up the tree from tr and return the treeposition of the first right sibling.'''\n    \n    # Your code here\n   \n    return None #returns None if no closest sibling found",
     "language": "python",
     "metadata": {},
     "outputs": [],
     "prompt_number": 11
    },
    {
     "cell_type": "markdown",
     "metadata": {},
     "source": "#### 4. Find the rightmost leaf\n\nThis part's quick"
    },
    {
     "cell_type": "code",
     "collapsed": false,
     "input": "def firstLeaf(sib):\n    '''Given a tree sib, return the position of the leftmost leaf in sib'''\n    \n    return None # Return something else here",
     "language": "python",
     "metadata": {},
     "outputs": [],
     "prompt_number": 12
    },
    {
     "cell_type": "markdown",
     "metadata": {},
     "source": "#### 5. Climb back up, checking as we go\n\nKeep in mind: At the leaf we're checking a string against `elt`. At subtrees we're checking a node label."
    },
    {
     "cell_type": "code",
     "collapsed": false,
     "input": "def right(t1, elt): \n    '''Given a tree t1 and a string elt, return True if t1 precedes elt'''\n    \n    # Your code here\n    \n    return False",
     "language": "python",
     "metadata": {},
     "outputs": [],
     "prompt_number": 13
    },
    {
     "cell_type": "code",
     "collapsed": false,
     "input": "",
     "language": "python",
     "metadata": {},
     "outputs": []
    },
    {
     "cell_type": "markdown",
     "metadata": {},
     "source": "## Putting it together\n\nHow can these methods be put together in the class definition?"
    },
    {
     "cell_type": "code",
     "collapsed": false,
     "input": "from nltk import ParentedTree\n\nclass myTree(ParentedTree):\n    \n    foo = \"bar\" #delete me\n    \n    # Add your method(s) here. Don't forget 'self' is always an argument.\n    \n    #At the very least, you'll need:\n    \n    def right(self, elt):\n        \n        #Your code here\n        \n        return False",
     "language": "python",
     "metadata": {},
     "outputs": [],
     "prompt_number": 1
    },
    {
     "cell_type": "code",
     "collapsed": false,
     "input": "tree = myTree(\"\"\"(VP (VBD got)\n  (NP\n    (NP (DT a)\n      (ADJP\n        (QP ($ $) (CD 29.4) (CD million))\n        (-NONE- *U*))\n      (NNP Air) (NNP Force) (NN contract))\n    (PP (IN for)\n      (NP (NN intelligence) (NNS data) (NN handling)))))\"\"\")\n\ncontract = tree[1,0,4]\n\nprint contract.right(\"for\") # Should be true\nprint contract.right(\"IN\")  # Should be true\nprint contract.right(\"PP\")  # Should be true\nprint contract.right(\"NP\")  # Should be false",
     "language": "python",
     "metadata": {},
     "outputs": [
      {
       "output_type": "stream",
       "stream": "stdout",
       "text": "False\n"
      }
     ],
     "prompt_number": 2
    },
    {
     "cell_type": "markdown",
     "metadata": {},
     "source": "## We're done! Good luck on final projects."
    }
   ],
   "metadata": {}
  }
 ]
}